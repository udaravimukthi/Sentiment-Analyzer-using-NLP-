{
 "cells": [
  {
   "cell_type": "markdown",
   "metadata": {},
   "source": [
    "Sentiment Analysis about facebook political singlish comments"
   ]
  },
  {
   "cell_type": "code",
   "execution_count": 9,
   "metadata": {},
   "outputs": [],
   "source": [
    "#import Libraries which need\n",
    "import nltk\n",
    "import pandas as pd\n",
    "import os"
   ]
  },
  {
   "cell_type": "code",
   "execution_count": 10,
   "metadata": {},
   "outputs": [],
   "source": [
    "#from Natural language toolkit import which need\n",
    "from nltk import FreqDist\n",
    "from nltk.tokenize import word_tokenize"
   ]
  },
  {
   "cell_type": "code",
   "execution_count": 11,
   "metadata": {},
   "outputs": [],
   "source": [
    "#add & read the comments excel file \n",
    "df = pd.read_excel(os.path.join(\"comments_e.xlsx\"),engine='openpyxl',)\n",
    "    \n",
    "negative_df = df[df[\"Annotate\"]==\"Negative\"]\n",
    "positive_df = df[df[\"Annotate\"]==\"Positive\"]\n",
    "\n",
    "negative_comments = negative_df[\"Comment\"]   \n",
    "positive_comments = positive_df[\"Comment\"]"
   ]
  },
  {
   "cell_type": "code",
   "execution_count": 12,
   "metadata": {},
   "outputs": [],
   "source": [
    "#define probability function calculation with bigram,unigram\n",
    "def probability(comment_bigrams, corpus_comment):\n",
    "    unigram_list = []\n",
    "    bigram_list = []\n",
    "\n",
    "    for line in corpus_comment:\n",
    "        line = \"< \" + line + \" >\"\n",
    "        nltk_tokens = nltk.word_tokenize(line.lower())\n",
    "        unigram_list = unigram_list + list(nltk_tokens)\n",
    "        bigrams = nltk.bigrams(nltk_tokens)\n",
    "        bigram_list = bigram_list + list(bigrams)\n",
    "        \n",
    "    unigram_freq = FreqDist(unigram_list)\n",
    "    bigram_freq = FreqDist(bigram_list)\n",
    "\n",
    "    probability = 1.0\n",
    "    for x in range(len(comment_bigrams)):\n",
    "        if comment_bigrams[x] in bigram_freq:\n",
    "            word2_count_bigram = bigram_freq[comment_bigrams[x]]\n",
    "        else:\n",
    "            word2_count_bigram = 0\n",
    "\n",
    "        if comment_bigrams[x][0] in unigram_freq:\n",
    "            word1_count_bigram = unigram_freq[comment_bigrams[x][0]]\n",
    "        else:\n",
    "            word1_count_bigram = 0\n",
    "        \n",
    "        #can depend on corpus total word count\n",
    "        unigram_vocabulary_count = 500\n",
    "        probability = probability * ((word2_count_bigram + 1) / (word1_count_bigram + unigram_vocabulary_count))\n",
    "\n",
    "    return probability"
   ]
  },
  {
   "cell_type": "code",
   "execution_count": 13,
   "metadata": {},
   "outputs": [],
   "source": [
    "#define perplexity function\n",
    "def perplexity(probability, n):\n",
    "    return pow(probability, (-1 / n))"
   ]
  },
  {
   "cell_type": "code",
   "execution_count": 14,
   "metadata": {},
   "outputs": [],
   "source": [
    "#calculation of probability\n",
    "def output_testing(comment):\n",
    "    \n",
    "    print('Entered comment:', comment)\n",
    "    nltk_tokens = nltk.word_tokenize(comment.lower())\n",
    "    number_of_words = len(nltk_tokens)\n",
    "    comment_bigrams = list(nltk.bigrams(nltk_tokens))\n",
    "\n",
    "    negative_probability = probability(comment_bigrams, negative_comments)\n",
    "    positive_probability = probability(comment_bigrams, positive_comments)\n",
    "\n",
    "    print(\"Negative probability = \" + str(negative_probability) + \", Positive probability = \" + str(positive_probability))\n",
    "\n",
    "    #sentiment analysis\n",
    "    \n",
    "    if (negative_probability > positive_probability):\n",
    "        print(\"Sentiment : Negative comment\")\n",
    "        pp = perplexity(negative_probability, number_of_words)\n",
    "        print(\"Perplexity = \" + str(pp))\n",
    "    elif negative_probability < positive_probability:\n",
    "        print(\"Sentiment : Positive comment\")\n",
    "        pp = perplexity(positive_probability, number_of_words)\n",
    "        print(\"Perplexity = \" + str(pp))\n",
    "    else:\n",
    "        print(\"Cannot classify\")"
   ]
  },
  {
   "cell_type": "code",
   "execution_count": 15,
   "metadata": {},
   "outputs": [
    {
     "name": "stdout",
     "output_type": "stream",
     "text": [
      "Entered comment: Hoda adarsamath wedak \n",
      "Negative probability = 3.98406374501992e-06, Positive probability = 4e-06\n",
      "Sentiment : Positive comment\n",
      "Perplexity = 62.996052494743644\n"
     ]
    }
   ],
   "source": [
    "#testing (add testing comment as '<comment>')\n",
    "\n",
    "output_testing('Hoda adarsamath wedak ')"
   ]
  },
  {
   "cell_type": "code",
   "execution_count": 16,
   "metadata": {},
   "outputs": [
    {
     "name": "stdout",
     "output_type": "stream",
     "text": [
      "Entered comment: aparade ape watina chandaya\n",
      "Negative probability = 6.349080274612323e-08, Positive probability = 8e-09\n",
      "Sentiment : Negative comment\n",
      "Perplexity = 62.9973520808422\n"
     ]
    }
   ],
   "source": [
    "#testing (add testing comment as '<comment>')\n",
    "\n",
    "output_testing('aparade ape watina chandaya')"
   ]
  },
  {
   "cell_type": "code",
   "execution_count": 8,
   "metadata": {},
   "outputs": [
    {
     "name": "stdout",
     "output_type": "stream",
     "text": [
      "Entered comment: Anieaarenma Ranjan Ramanayaka mahathataa .jayen jayama wewaaaaa. Jesu pihitai.\n",
      "Negative probability = 9.999570330962344e-28, Positive probability = 1.0240000000000004e-27\n",
      "Sentiment : Positive comment\n",
      "Perplexity = 284.190198160869\n"
     ]
    }
   ],
   "source": [
    "#testing (add testing comment as '<comment>')\n",
    "\n",
    "output_testing('Anieaarenma Ranjan Ramanayaka mahathataa .jayen jayama wewaaaaa. Jesu pihitai.')"
   ]
  },
  {
   "cell_type": "code",
   "execution_count": null,
   "metadata": {},
   "outputs": [],
   "source": []
  }
 ],
 "metadata": {
  "kernelspec": {
   "display_name": "Python 3",
   "language": "python",
   "name": "python3"
  },
  "language_info": {
   "codemirror_mode": {
    "name": "ipython",
    "version": 3
   },
   "file_extension": ".py",
   "mimetype": "text/x-python",
   "name": "python",
   "nbconvert_exporter": "python",
   "pygments_lexer": "ipython3",
   "version": "3.8.5"
  }
 },
 "nbformat": 4,
 "nbformat_minor": 4
}
