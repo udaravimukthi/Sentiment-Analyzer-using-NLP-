{
 "cells": [
  {
   "cell_type": "markdown",
   "metadata": {},
   "source": [
    "Sentiment Ananlysis of Faceebook Political Comments"
   ]
  },
  {
   "cell_type": "code",
   "execution_count": 84,
   "metadata": {},
   "outputs": [],
   "source": [
    "# import libraries\n",
    "from collections import defaultdict\n",
    "from nltk import word_tokenize \n",
    "from nltk.util import ngrams\n",
    "from nltk import RegexpTokenizer\n",
    "import pandas as pd\n",
    "import os"
   ]
  },
  {
   "cell_type": "code",
   "execution_count": 85,
   "metadata": {},
   "outputs": [],
   "source": [
    "# bigram model for Positive Comment Corpus\n",
    "positive_model = defaultdict(lambda:defaultdict(lambda: 0))"
   ]
  },
  {
   "cell_type": "code",
   "execution_count": 86,
   "metadata": {},
   "outputs": [],
   "source": [
    "tokenizer = RegexpTokenizer(r\"\\w+\")"
   ]
  },
  {
   "cell_type": "code",
   "execution_count": 87,
   "metadata": {},
   "outputs": [],
   "source": [
    "# Read Positive Comments Corpus \n",
    "\n",
    "import csv\n",
    "with open(\"positive_comments.csv\", \"r\") as f:\n",
    "    reader = csv.reader(f, delimiter=\"\\t\")\n",
    "    for i, line in enumerate(reader):\n",
    "        if i != 0:\n",
    "            #print(line[0])\n",
    "            #token = nltk.word_tokenize(line[0].lower())\n",
    "            token = tokenizer.tokenize(line[0].lower())\n",
    "            bigram = list(ngrams(token, 2)) \n",
    "            for x in bigram:\n",
    "                positive_model[x[0]][x[1]] += 1"
   ]
  },
  {
   "cell_type": "code",
   "execution_count": 88,
   "metadata": {},
   "outputs": [],
   "source": [
    "# bigram model for Positive Comment Corpus\n",
    "\n",
    "negative_model = defaultdict(lambda:defaultdict(lambda: 0))"
   ]
  },
  {
   "cell_type": "code",
   "execution_count": 89,
   "metadata": {},
   "outputs": [],
   "source": [
    "# Read Negative Comments Corpus\n",
    "\n",
    "with open(\"negative_comments.csv\", \"r\") as f:\n",
    "    reader = csv.reader(f, delimiter=\"\\t\")\n",
    "    for i, line in enumerate(reader):\n",
    "        if i != 0:\n",
    "            #print(line[0])\n",
    "            #token = nltk.word_tokenize(line[0].lower())\n",
    "            token = tokenizer.tokenize(line[0].lower())\n",
    "            bigram = list(ngrams(token, 2)) \n",
    "            for x in bigram:\n",
    "                negative_model[x[0]][x[1]] += 1"
   ]
  },
  {
   "cell_type": "code",
   "execution_count": 90,
   "metadata": {},
   "outputs": [],
   "source": [
    "# calculating probabilities\n",
    "\n",
    "for x in positive_model:\n",
    "    total_count = float(sum(positive_model[x].values()))\n",
    "    for y in positive_model[x]:\n",
    "        positive_model[x][y] /= total_count\n",
    "        \n",
    "for x in negative_model:\n",
    "    total_count = float(sum(negative_model[x].values()))\n",
    "    for y in negative_model[x]:\n",
    "        negative_model[x][y] /= total_count\n",
    "        \n",
    "        \n"
   ]
  },
  {
   "cell_type": "code",
   "execution_count": 91,
   "metadata": {},
   "outputs": [],
   "source": [
    "# testing\n",
    "\n",
    "def check_sentiment(comment):\n",
    "\n",
    "    tokenized = tokenizer.tokenize(comment.lower())\n",
    "    bigram_test = list(ngrams(tokenized, 2))\n",
    "\n",
    "    positive_p = 1\n",
    "    negative_p = 1\n",
    "\n",
    "    for (x,y) in bigram_test:\n",
    "        positive_p = positive_p * positive_model[x][y]\n",
    "        negative_p = negative_p * negative_model[x][y]\n",
    "    \n",
    "    print('Probability for Postive Comment : ',positive_p)\n",
    "    print('Probability for Negative Comment : ',negative_p)\n",
    "    \n",
    "    if (positive_p > negative_p):\n",
    "        print('Sentiment: Positive')\n",
    "    elif (positive_p < negative_p):\n",
    "        print('Sentiment: Negative')\n",
    "    else:\n",
    "        print('Sentiment: Neutral')"
   ]
  },
  {
   "cell_type": "code",
   "execution_count": 94,
   "metadata": {},
   "outputs": [],
   "source": [
    "# calculates the perplexity of the model using the goven comment\n",
    "def perplexity():\n",
    "    \n",
    "    # calculate the vocabulary of the corpus\n",
    "    vocabulary_count = len(positive_model) + len(negative_model)\n",
    "    \n",
    "    for first in positive_model:\n",
    "        vocabulary_count += len(positive_model[first])\n",
    "    for first in negative_model:\n",
    "        vocabulary_count += len(negative_model[first])\n",
    "    \n",
    "    print('Vocabulary: ', vocabulary_count)\n",
    "    \n",
    "    bigram_prob = 1.\n",
    "    for first in positive_model:\n",
    "        prob_vals = positive_model[first].values()\n",
    "        for prob in prob_vals:\n",
    "            if prob != 0:\n",
    "                bigram_prob *= prob\n",
    "                \n",
    "    for first in negative_model:\n",
    "        prob_vals = negative_model[first].values()\n",
    "        for prob in prob_vals:\n",
    "            if prob != 0:\n",
    "                bigram_prob *= prob\n",
    "        \n",
    "    print('Bigram probability: ', bigram_prob, '\\n')\n",
    "    \n",
    "    # calculate the perplexity\n",
    "    pp = (1.0 / bigram_prob) ** (1. / vocabulary_count)\n",
    "    \n",
    "    print('perplexity: ', pp)\n"
   ]
  },
  {
   "cell_type": "code",
   "execution_count": 92,
   "metadata": {},
   "outputs": [
    {
     "name": "stdout",
     "output_type": "stream",
     "text": [
      "Probability for Postive Comment :  0\n",
      "Probability for Negative Comment :  0.25\n",
      "Sentiment: Negative\n"
     ]
    }
   ],
   "source": [
    "# test\n",
    "\n",
    "comment = 'Api rewatuna...aparade ape watina chandaya'\n",
    "check_sentiment(comment)\n",
    "\n",
    "# test end"
   ]
  },
  {
   "cell_type": "code",
   "execution_count": 93,
   "metadata": {},
   "outputs": [
    {
     "name": "stdout",
     "output_type": "stream",
     "text": [
      "Probability for Postive Comment :  0.0020833333333333333\n",
      "Probability for Negative Comment :  0\n",
      "Sentiment: Positive\n"
     ]
    }
   ],
   "source": [
    "# test\n",
    "\n",
    "comment = 'Hoda adarsamath wedak .Api semada oba samagai'\n",
    "check_sentiment(comment)\n",
    "\n",
    "# test end"
   ]
  },
  {
   "cell_type": "code",
   "execution_count": 95,
   "metadata": {},
   "outputs": [
    {
     "name": "stdout",
     "output_type": "stream",
     "text": [
      "Vocabulary:  1353\n",
      "Bigram probability:  6.561277028641357e-128 \n",
      "\n",
      "perplexity:  1.2416544452487968\n"
     ]
    }
   ],
   "source": [
    "# perplexity\n",
    "\n",
    "perplexity()\n"
   ]
  },
  {
   "cell_type": "code",
   "execution_count": null,
   "metadata": {},
   "outputs": [],
   "source": []
  }
 ],
 "metadata": {
  "kernelspec": {
   "display_name": "Python 3",
   "language": "python",
   "name": "python3"
  },
  "language_info": {
   "codemirror_mode": {
    "name": "ipython",
    "version": 3
   },
   "file_extension": ".py",
   "mimetype": "text/x-python",
   "name": "python",
   "nbconvert_exporter": "python",
   "pygments_lexer": "ipython3",
   "version": "3.8.5"
  }
 },
 "nbformat": 4,
 "nbformat_minor": 4
}
