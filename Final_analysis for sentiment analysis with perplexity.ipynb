{
 "cells": [
  {
   "cell_type": "markdown",
   "metadata": {},
   "source": [
    "Sentiment Analysis about facebook political singlish comments"
   ]
  },
  {
   "cell_type": "code",
   "execution_count": 13,
   "metadata": {},
   "outputs": [],
   "source": [
    "#import Libraries which need\n",
    "import nltk\n",
    "import pandas as pd\n",
    "import os"
   ]
  },
  {
   "cell_type": "code",
   "execution_count": 14,
   "metadata": {},
   "outputs": [],
   "source": [
    "#from Natural language toolkit import which need\n",
    "from nltk import FreqDist\n",
    "from nltk.tokenize import word_tokenize"
   ]
  },
  {
   "cell_type": "code",
   "execution_count": 15,
   "metadata": {},
   "outputs": [],
   "source": [
    "#add & read the comments excel file \n",
    "df = pd.read_excel(os.path.join(\"comments_e.xlsx\"),engine='openpyxl',)\n",
    "    \n",
    "negative_df = df[df[\"Annotate\"]==\"Negative\"]\n",
    "positive_df = df[df[\"Annotate\"]==\"Positive\"]\n",
    "\n",
    "negative_comments = negative_df[\"Comment\"]   \n",
    "positive_comments = positive_df[\"Comment\"]"
   ]
  },
  {
   "cell_type": "code",
   "execution_count": 16,
   "metadata": {},
   "outputs": [],
   "source": [
    "#define probability function calculation with bigram,unigram\n",
    "def probability(comment_bigrams, f):\n",
    "    unigram_list = []\n",
    "    bigram_list = []\n",
    "\n",
    "    for line in f:\n",
    "        line = \"< \" + line + \" >\"\n",
    "        nltk_tokens = nltk.word_tokenize(line.lower())\n",
    "        unigram_list = unigram_list + list(nltk_tokens)\n",
    "        bigrams = nltk.bigrams(nltk_tokens)\n",
    "        bigram_list = bigram_list + list(bigrams)\n",
    "        \n",
    "    unigram_frequency = FreqDist(unigram_list)\n",
    "    bigram_frequency = FreqDist(bigram_list)\n",
    "\n",
    "    prob = 1.0\n",
    "    for x in range(len(comment_bigrams)):\n",
    "        if comment_bigrams[x] in bigram_frequency:\n",
    "            count_w = bigram_frequency[comment_bigrams[x]]\n",
    "        else:\n",
    "            count_w = 0\n",
    "\n",
    "        if comment_bigrams[x][0] in unigram_frequency:\n",
    "            count_h = unigram_frequency[comment_bigrams[x][0]]\n",
    "        else:\n",
    "            count_h = 0\n",
    "\n",
    "        V = 500\n",
    "        prob = prob * ((count_w + 1) / (count_h + V))\n",
    "\n",
    "    return prob"
   ]
  },
  {
   "cell_type": "code",
   "execution_count": 17,
   "metadata": {},
   "outputs": [],
   "source": [
    "#define perplexity function\n",
    "def perplexity(prob, n):\n",
    "    return pow(prob, (-1 / n))"
   ]
  },
  {
   "cell_type": "code",
   "execution_count": 23,
   "metadata": {},
   "outputs": [],
   "source": [
    "#calculation of probability\n",
    "def output_testing(comment):\n",
    "    \n",
    "    print('Entered comment:', comment)\n",
    "#comment = input()\n",
    "#comment = \"< \" + comment + \" >\"\n",
    "    nltk_tokens = nltk.word_tokenize(comment.lower())\n",
    "    number_of_words = len(nltk_tokens)\n",
    "    comment_bigrams = list(nltk.bigrams(nltk_tokens))\n",
    "\n",
    "    negative_probability = probability(comment_bigrams, negative_comments)\n",
    "    positive_probability = probability(comment_bigrams, positive_comments)\n",
    "\n",
    "    print(\"Negative probability = \" + str(negative_probability) + \", Positive probability = \" + str(positive_probability))\n",
    "\n",
    "    #sentiment analysis\n",
    "    \n",
    "    if (negative_probability > positive_probability):\n",
    "        print(\"Sentiment : Negative comment\")\n",
    "        pp = perplexity(negative_probability, number_of_words)\n",
    "        print(\"Perplexity = \" + str(pp))\n",
    "    elif negative_probability < positive_probability:\n",
    "        print(\"Sentiment : Positive comment\")\n",
    "        pp = perplexity(positive_probability, number_of_words)\n",
    "        print(\"Perplexity = \" + str(pp))\n",
    "    else:\n",
    "        print(\"Cannot classify\")"
   ]
  },
  {
   "cell_type": "code",
   "execution_count": 26,
   "metadata": {},
   "outputs": [
    {
     "name": "stdout",
     "output_type": "stream",
     "text": [
      "Entered comment: Hoda adarsamath wedak .Api semada oba samagai\n",
      "Negative probability = 6.361778435161549e-17, Positive probability = 6.400000000000002e-17\n",
      "Sentiment : Positive comment\n",
      "Perplexity = 205.7798568918039\n"
     ]
    }
   ],
   "source": [
    "#testing (add testing comment as '<comment>')\n",
    "\n",
    "output_testing('Hoda adarsamath wedak .Api semada oba samagai')"
   ]
  },
  {
   "cell_type": "code",
   "execution_count": 27,
   "metadata": {},
   "outputs": [
    {
     "name": "stdout",
     "output_type": "stream",
     "text": [
      "Entered comment: Api rewatuna...aparade ape watina chandaya\n",
      "Negative probability = 3.991186356571515e-15, Positive probability = 6.400000000000002e-17\n",
      "Sentiment : Negative comment\n",
      "Perplexity = 114.02115282141337\n"
     ]
    }
   ],
   "source": [
    "#testing (add testing comment as '<comment>')\n",
    "\n",
    "output_testing('Api rewatuna...aparade ape watina chandaya')"
   ]
  },
  {
   "cell_type": "code",
   "execution_count": null,
   "metadata": {},
   "outputs": [],
   "source": []
  }
 ],
 "metadata": {
  "kernelspec": {
   "display_name": "Python 3",
   "language": "python",
   "name": "python3"
  },
  "language_info": {
   "codemirror_mode": {
    "name": "ipython",
    "version": 3
   },
   "file_extension": ".py",
   "mimetype": "text/x-python",
   "name": "python",
   "nbconvert_exporter": "python",
   "pygments_lexer": "ipython3",
   "version": "3.8.5"
  }
 },
 "nbformat": 4,
 "nbformat_minor": 4
}
